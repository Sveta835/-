{
 "cells": [
  {
   "cell_type": "code",
   "execution_count": 579,
   "metadata": {
    "id": "TT2i78M15EP_"
   },
   "outputs": [],
   "source": [
    "import pandas as pd\n",
    "import numpy as np\n",
    "import matplotlib.pyplot as plt\n",
    "import seaborn as sns\n",
    "sns.set();\n",
    "import math\n",
    "\n",
    "from sklearn.model_selection import train_test_split\n",
    "from sklearn.linear_model import LinearRegression\n",
    "from sklearn.metrics import mean_squared_error\n",
    "from sklearn.model_selection import cross_validate"
   ]
  },
  {
   "cell_type": "code",
   "execution_count": 580,
   "metadata": {
    "id": "eocRP_wn5Ieq"
   },
   "outputs": [],
   "source": [
    "df = pd.read_csv(\"https://raw.githubusercontent.com/katarina74/ml_lessons/main/lesson_2/data/techparams_train.csv\")\n",
    "X = df.drop([\"target\", \"index\"], axis=1)\n",
    "y = df[[\"target\"]]"
   ]
  },
  {
   "cell_type": "code",
   "execution_count": 581,
   "metadata": {
    "id": "d5RllGzI5JBZ"
   },
   "outputs": [],
   "source": [
    "train_X, test_X, train_y, test_y = train_test_split(X, y, test_size=0.33, random_state=42)"
   ]
  },
  {
   "cell_type": "code",
   "execution_count": 582,
   "metadata": {
    "id": "NDfJdcf1Eoo5"
   },
   "outputs": [],
   "source": [
    "train_cut_X = train_X[train_X.columns[:5]]\n",
    "test_cut_X = test_X[train_X.columns[:5]]"
   ]
  },
  {
   "cell_type": "code",
   "execution_count": 583,
   "metadata": {
    "id": "mklDutuJ5Tr7"
   },
   "outputs": [],
   "source": [
    "all_features = train_cut_X.columns"
   ]
  },
  {
   "cell_type": "code",
   "execution_count": 584,
   "metadata": {
    "id": "kq7SE0kr5UfP"
   },
   "outputs": [],
   "source": [
    "i = all_features[0]\n",
    "N = all_features[0:]"
   ]
  },
  {
   "cell_type": "code",
   "execution_count": 585,
   "metadata": {
    "id": "ql71VwbQ5ZL8"
   },
   "outputs": [],
   "source": [
    "def subsets(S):\n",
    "  sets = []\n",
    "  len_s = len(S)\n",
    "  for i in range (1 << len_s):\n",
    "    subset = [S[bit] for bit in range(len_s) if i &(1 << bit)]\n",
    "    sets.append(subset)\n",
    "  return sets"
   ]
  },
  {
   "cell_type": "code",
   "execution_count": 586,
   "metadata": {
    "colab": {
     "base_uri": "https://localhost:8080/"
    },
    "id": "rlXafdiS5b6a",
    "outputId": "0e4aa66f-a428-43ef-f7be-1bf8032e5bb9"
   },
   "outputs": [
    {
     "data": {
      "text/plain": [
       "[['back-suspension'],\n",
       " ['battery-capacity'],\n",
       " ['back-suspension', 'battery-capacity'],\n",
       " ['charge-time'],\n",
       " ['back-suspension', 'charge-time'],\n",
       " ['battery-capacity', 'charge-time'],\n",
       " ['back-suspension', 'battery-capacity', 'charge-time'],\n",
       " ['compression'],\n",
       " ['back-suspension', 'compression'],\n",
       " ['battery-capacity', 'compression'],\n",
       " ['back-suspension', 'battery-capacity', 'compression'],\n",
       " ['charge-time', 'compression'],\n",
       " ['back-suspension', 'charge-time', 'compression'],\n",
       " ['battery-capacity', 'charge-time', 'compression'],\n",
       " ['back-suspension', 'battery-capacity', 'charge-time', 'compression'],\n",
       " ['consumption-mixed'],\n",
       " ['back-suspension', 'consumption-mixed'],\n",
       " ['battery-capacity', 'consumption-mixed'],\n",
       " ['back-suspension', 'battery-capacity', 'consumption-mixed'],\n",
       " ['charge-time', 'consumption-mixed'],\n",
       " ['back-suspension', 'charge-time', 'consumption-mixed'],\n",
       " ['battery-capacity', 'charge-time', 'consumption-mixed'],\n",
       " ['back-suspension', 'battery-capacity', 'charge-time', 'consumption-mixed'],\n",
       " ['compression', 'consumption-mixed'],\n",
       " ['back-suspension', 'compression', 'consumption-mixed'],\n",
       " ['battery-capacity', 'compression', 'consumption-mixed'],\n",
       " ['back-suspension', 'battery-capacity', 'compression', 'consumption-mixed'],\n",
       " ['charge-time', 'compression', 'consumption-mixed'],\n",
       " ['back-suspension', 'charge-time', 'compression', 'consumption-mixed'],\n",
       " ['battery-capacity', 'charge-time', 'compression', 'consumption-mixed'],\n",
       " ['back-suspension',\n",
       "  'battery-capacity',\n",
       "  'charge-time',\n",
       "  'compression',\n",
       "  'consumption-mixed']]"
      ]
     },
     "execution_count": 586,
     "metadata": {},
     "output_type": "execute_result"
    }
   ],
   "source": [
    "all_s = subsets(N)[1:]\n",
    "all_s"
   ]
  },
  {
   "cell_type": "code",
   "execution_count": 587,
   "metadata": {
    "id": "uH8WyhEpVYDo"
   },
   "outputs": [],
   "source": [
    "def sub(a, s):\n",
    "  s1 = []\n",
    "  for x in s:\n",
    "    if a not in x:\n",
    "      s1.append(x)\n",
    "  return s1"
   ]
  },
  {
   "cell_type": "code",
   "execution_count": 588,
   "metadata": {
    "id": "pvIiCv_RVpr3"
   },
   "outputs": [],
   "source": [
    "def shap_alg(s2, a):\n",
    "  fi = 0\n",
    "  for i in s2:\n",
    "    b = i.copy()\n",
    "    train_cut_X_1 = train_cut_X[i]\n",
    "    test_cut_X_1 = test_cut_X[i]\n",
    "    reg1 = LinearRegression().fit(train_cut_X_1, train_y)\n",
    "    b.append(a)\n",
    "    train_cut_X_2 = train_cut_X[b]\n",
    "    test_cut_X_2 = test_cut_X[b]\n",
    "    reg2 = LinearRegression().fit(train_cut_X_2, train_y)\n",
    "    fi += (math.factorial(len(x))*math.factorial(5- len(i) - 1)/math.factorial(5))*(mean_squared_error(reg1.predict(test_cut_X_1), test_y) - mean_squared_error(reg2.predict(test_cut_X_2), test_y) )\n",
    "  return fi"
   ]
  },
  {
   "cell_type": "code",
   "execution_count": 589,
   "metadata": {
    "id": "WotURWAZ5fFa"
   },
   "outputs": [],
   "source": [
    "shap_dict = {}"
   ]
  },
  {
   "cell_type": "code",
   "execution_count": 590,
   "metadata": {
    "colab": {
     "base_uri": "https://localhost:8080/"
    },
    "id": "qro8V91_WoI9",
    "outputId": "72bc1a90-fc3f-4e81-c7cc-37b15dbee34c"
   },
   "outputs": [
    {
     "data": {
      "text/plain": [
       "[('back-suspension', 8721.793370425326),\n",
       " ('consumption-mixed', 4922.929338100867),\n",
       " ('charge-time', 3987.95122773875),\n",
       " ('battery-capacity', 512.1770115762716),\n",
       " ('compression', 5.9178705837053736)]"
      ]
     },
     "execution_count": 590,
     "metadata": {},
     "output_type": "execute_result"
    }
   ],
   "source": [
    "for name in train_cut_X.columns:\n",
    "  subs = sub(name, all_s)\n",
    "  shap_dict[name] = shap_alg(subs, name)\n",
    "sorted(shap_dict.items(), key=lambda item: item[1],  reverse=True)"
   ]
  },
  {
   "cell_type": "code",
   "execution_count": 591,
   "metadata": {
    "colab": {
     "base_uri": "https://localhost:8080/",
     "height": 351
    },
    "id": "s6q7tuhyZNQO",
    "outputId": "ab989601-c485-4afc-b889-640dc43109c5"
   },
   "outputs": [
    {
     "data": {
      "image/png": "[encoded data removed]",
      "text/plain": [
       "<Figure size 800x350 with 2 Axes>"
      ]
     },
     "metadata": {},
     "output_type": "display_data"
    }
   ],
   "source": [
    "reg = LinearRegression().fit(train_cut_X, train_y)\n",
    "\n",
    "explainer = shap.Explainer(reg, train_cut_X)\n",
    "shap_values = explainer(test_cut_X)\n",
    "\n",
    "shap.summary_plot(shap_values, test_cut_X)"
   ]
  },
  {
   "cell_type": "markdown",
   "metadata": {
    "id": "Jkngu_yBE2pl"
   },
   "source": [
    "Вывод: \n",
    "Результаты совпадают с результатами встроенного метода шепли"
   ]
  }
 ],
 "metadata": {
  "colab": {
   "provenance": []
  },
  "kernelspec": {
   "display_name": "Python 3 (ipykernel)",
   "language": "python",
   "name": "python3"
  },
  "language_info": {
   "codemirror_mode": {
    "name": "ipython",
    "version": 3
   },
   "file_extension": ".py",
   "mimetype": "text/x-python",
   "name": "python",
   "nbconvert_exporter": "python",
   "pygments_lexer": "ipython3",
   "version": "3.10.9"
  }
 },
 "nbformat": 4,
 "nbformat_minor": 1
}
